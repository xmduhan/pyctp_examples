{
 "cells": [
  {
   "cell_type": "code",
   "execution_count": null,
   "metadata": {
    "collapsed": false
   },
   "outputs": [],
   "source": [
    "from pyctp import Trader,Md,struct,callback\n",
    "from time import sleep\n",
    "from pandas import DataFrame\n",
    "import pandas as pd\n",
    "from comhelper import frontAddress, brokerID, userID, password\n",
    "from comhelper import wait, getDefaultInstrumentId\n",
    "pd.set_option('display.max_columns', 100)\n",
    "result = []\n",
    "flag = []\n",
    "def OnRspQryDepthMarketData(**kwargs):\n",
    "    result.append(kwargs['Data'])\n",
    "    if kwargs['IsLast'] == True:\n",
    "        flag.append(1)\n",
    "\n",
    "trader = Trader(frontAddress,brokerID,userID,password)\n",
    "trader.bind(callback.OnRspQryDepthMarketData,OnRspQryDepthMarketData)\n",
    "data = struct.CThostFtdcQryDepthMarketDataField()\n",
    "data.InstrumentID = getDefaultInstrumentId()\n",
    "trader.ReqQryDepthMarketData(data)\n",
    "wait(lambda: len(flag) > 0)\n",
    "DataFrame(result)"
   ]
  }
 ],
 "metadata": {
  "kernelspec": {
   "display_name": "Python 2",
   "language": "python",
   "name": "python2"
  },
  "language_info": {
   "codemirror_mode": {
    "name": "ipython",
    "version": 2
   },
   "file_extension": ".py",
   "mimetype": "text/x-python",
   "name": "python",
   "nbconvert_exporter": "python",
   "pygments_lexer": "ipython2",
   "version": "2.7.6"
  }
 },
 "nbformat": 4,
 "nbformat_minor": 0
}
