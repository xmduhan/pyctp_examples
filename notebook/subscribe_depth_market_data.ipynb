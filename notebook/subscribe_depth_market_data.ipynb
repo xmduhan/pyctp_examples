{
 "cells": [
  {
   "cell_type": "code",
   "execution_count": 1,
   "metadata": {
    "collapsed": false
   },
   "outputs": [
    {
     "name": "stdout",
     "output_type": "stream",
     "text": [
      "[{u'RspInfo': {u'ErrorMsg': u'CTP:No Error', u'ErrorID': 0}, u'Data': {u'InstrumentID': u'IF1511'}, 'ResponseMethod': 'OnRspSubMarketData', u'RequestID': 0, u'IsLast': True}]\n"
     ]
    }
   ],
   "source": [
    "from pyctp import Trader,Md,struct,callback\n",
    "from datetime import datetime\n",
    "from dateutil.relativedelta import relativedelta\n",
    "from comhelper import mdFrontAddress, brokerID, userID, password\n",
    "from comhelper import wait, getDefaultInstrumentId\n",
    "\n",
    "result = []                           \n",
    "def OnRspSubMarketData(**kwargs):                                                      \n",
    "    result.append(kwargs)\n",
    "\n",
    "data = []                                                                                \n",
    "def OnRtnDepthMarketData(**kwargs):                                                    \n",
    "    data.append(kwargs)    \n",
    "\n",
    "md = Md(mdFrontAddress,brokerID,userID,password)\n",
    "md.bind(callback.OnRspSubMarketData, OnRspSubMarketData)\n",
    "md.bind(callback.OnRtnDepthMarketData, OnRtnDepthMarketData)\n",
    "md.SubscribeMarketData([getDefaultInstrumentId()])\n",
    "wait(lambda: len(result)>0)\n",
    "print result"
   ]
  },
  {
   "cell_type": "code",
   "execution_count": 7,
   "metadata": {
    "collapsed": false
   },
   "outputs": [
    {
     "name": "stdout",
     "output_type": "stream",
     "text": [
      "13\n"
     ]
    }
   ],
   "source": [
    "print len(data)"
   ]
  }
 ],
 "metadata": {
  "kernelspec": {
   "display_name": "Python 2",
   "language": "python",
   "name": "python2"
  },
  "language_info": {
   "codemirror_mode": {
    "name": "ipython",
    "version": 2
   },
   "file_extension": ".py",
   "mimetype": "text/x-python",
   "name": "python",
   "nbconvert_exporter": "python",
   "pygments_lexer": "ipython2",
   "version": "2.7.6"
  }
 },
 "nbformat": 4,
 "nbformat_minor": 0
}
