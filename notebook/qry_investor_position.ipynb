{
 "cells": [
  {
   "cell_type": "code",
   "execution_count": 1,
   "metadata": {
    "collapsed": true
   },
   "outputs": [],
   "source": [
    "# 读取环境变量\n",
    "import os\n",
    "frontAddress = os.environ.get('CTP_FRONT_ADDRESS')\n",
    "mdFrontAddress = os.environ.get('CTP_MD_FRONT_ADDRESS')\n",
    "brokerID = os.environ.get('CTP_BROKER_ID')\n",
    "userID = os.environ.get('CTP_USER_ID')\n",
    "password = os.environ.get('CTP_PASSWORD')\n",
    "assert frontAddress and mdFrontAddress and brokerID and userID and password"
   ]
  },
  {
   "cell_type": "code",
   "execution_count": 10,
   "metadata": {
    "collapsed": false
   },
   "outputs": [
    {
     "data": {
      "text/html": [
       "<div style=\"max-height:1000px;max-width:1500px;overflow:auto;\">\n",
       "<table border=\"1\" class=\"dataframe\">\n",
       "  <thead>\n",
       "    <tr style=\"text-align: right;\">\n",
       "      <th></th>\n",
       "      <th>InstrumentID</th>\n",
       "      <th>CloseVolume</th>\n",
       "      <th>OpenVolume</th>\n",
       "      <th>Position</th>\n",
       "      <th>CloseProfit</th>\n",
       "      <th>PositionProfit</th>\n",
       "      <th>Commission</th>\n",
       "    </tr>\n",
       "  </thead>\n",
       "  <tbody>\n",
       "    <tr>\n",
       "      <th>0</th>\n",
       "      <td> IF1509</td>\n",
       "      <td> 5</td>\n",
       "      <td> 5</td>\n",
       "      <td> 0</td>\n",
       "      <td>-17100</td>\n",
       "      <td> 0</td>\n",
       "      <td> 213.0765</td>\n",
       "    </tr>\n",
       "  </tbody>\n",
       "</table>\n",
       "<p>1 rows × 7 columns</p>\n",
       "</div>"
      ],
      "text/plain": [
       "  InstrumentID  CloseVolume  OpenVolume  Position  CloseProfit  \\\n",
       "0       IF1509            5           5         0       -17100   \n",
       "\n",
       "   PositionProfit  Commission  \n",
       "0               0    213.0765  \n",
       "\n",
       "[1 rows x 7 columns]"
      ]
     },
     "execution_count": 10,
     "metadata": {},
     "output_type": "execute_result"
    }
   ],
   "source": [
    "from pyctp import Trader,Md,struct,callback\n",
    "from time import sleep\n",
    "from pandas import DataFrame\n",
    "result = []\n",
    "flag = []\n",
    "def OnRspQryInvestorPosition(**kwargs):\n",
    "    result.append(kwargs['Data'])\n",
    "    if kwargs['IsLast'] == True:\n",
    "        flag.append(1)\n",
    "\n",
    "trader = Trader(frontAddress,brokerID,userID,password)\n",
    "trader.bind(callback.OnRspQryInvestorPosition,OnRspQryInvestorPosition)\n",
    "data = struct.CThostFtdcQryInvestorPositionField()\n",
    "trader.ReqQryInvestorPosition(data)\n",
    "while len(flag) == 0: sleep(.01)\n",
    "DataFrame(result)[['InstrumentID','CloseVolume','OpenVolume','Position','CloseProfit','PositionProfit','Commission']]"
   ]
  }
 ],
 "metadata": {
  "kernelspec": {
   "display_name": "Python 2",
   "language": "python",
   "name": "python2"
  },
  "language_info": {
   "codemirror_mode": {
    "name": "ipython",
    "version": 2
   },
   "file_extension": ".py",
   "mimetype": "text/x-python",
   "name": "python",
   "nbconvert_exporter": "python",
   "pygments_lexer": "ipython2",
   "version": "2.7.6"
  }
 },
 "nbformat": 4,
 "nbformat_minor": 0
}
