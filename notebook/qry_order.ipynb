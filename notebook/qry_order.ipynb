{
 "cells": [
  {
   "cell_type": "code",
   "execution_count": null,
   "metadata": {
    "collapsed": false
   },
   "outputs": [],
   "source": [
    "from pyctp import Trader,Md,struct,callback\n",
    "from time import sleep\n",
    "from pandas import DataFrame\n",
    "import pandas as pd\n",
    "from comhelper import frontAddress, brokerID, userID, password\n",
    "from comhelper import wait\n",
    "pd.set_option('display.max_columns', 100)\n",
    "\n",
    "flag = []\n",
    "result = []\n",
    "def OnRspQryOrder(**kwargs):\n",
    "    result.append(kwargs['Data'])\n",
    "    if kwargs['IsLast'] == True:\n",
    "        flag.append(1)\n",
    "\n",
    "trader = Trader(frontAddress,brokerID,userID,password)\n",
    "trader.bind(callback.OnRspQryOrder,OnRspQryOrder)\n",
    "data = struct.CThostFtdcQryOrderField()\n",
    "trader.ReqQryOrder(data)\n",
    "wait(lambda: len(flag) > 0)\n",
    "df = DataFrame(result)\n",
    "# 查看为成交记录\n",
    "df = df[df['StatusMsg'] == u'未成交']\n",
    "df[['SequenceNo', 'StatusMsg', 'OrderRef', 'SessionID', 'OrderSysID']]"
   ]
  }
 ],
 "metadata": {
  "kernelspec": {
   "display_name": "Python 2",
   "language": "python",
   "name": "python2"
  },
  "language_info": {
   "codemirror_mode": {
    "name": "ipython",
    "version": 2
   },
   "file_extension": ".py",
   "mimetype": "text/x-python",
   "name": "python",
   "nbconvert_exporter": "python",
   "pygments_lexer": "ipython2",
   "version": "2.7.6"
  }
 },
 "nbformat": 4,
 "nbformat_minor": 0
}
