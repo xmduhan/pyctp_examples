{
 "cells": [
  {
   "cell_type": "code",
   "execution_count": 1,
   "metadata": {
    "collapsed": false
   },
   "outputs": [
    {
     "name": "stdout",
     "output_type": "stream",
     "text": [
      "[{u'Data': {u'BrokerID': u'66666',\n",
      "            u'ConfirmDate': u'20151030',\n",
      "            u'ConfirmTime': u'09:03:37',\n",
      "            u'InvestorID': u'60003010'},\n",
      "  u'IsLast': True,\n",
      "  u'RequestID': 2,\n",
      "  'ResponseMethod': 'OnRspSettlementInfoConfirm',\n",
      "  u'RspInfo': {u'ErrorID': 0, u'ErrorMsg': u'\\u6b63\\u786e'}}]\n"
     ]
    }
   ],
   "source": [
    "from pyctp import Trader,Md,struct,callback\n",
    "from comhelper import frontAddress, brokerID, userID, password\n",
    "from comhelper import wait\n",
    "from pprint import pprint\n",
    "\n",
    "result = []\n",
    "def OnRspSettlementInfoConfirm(**kwargs):\n",
    "    result.append(kwargs)\n",
    "\n",
    "trader = Trader(frontAddress,brokerID,userID,password)\n",
    "trader.bind(callback.OnRspSettlementInfoConfirm,OnRspSettlementInfoConfirm)\n",
    "data = struct.CThostFtdcSettlementInfoConfirmField()\n",
    "data.BrokerID = brokerID\n",
    "data.InvestorID = userID\n",
    "data.ConfirmDate = ''\n",
    "data.ConfirmTime = ''\n",
    "trader.ReqSettlementInfoConfirm(data)\n",
    "wait(lambda: len(result)>0)\n",
    "pprint(result)"
   ]
  },
  {
   "cell_type": "code",
   "execution_count": null,
   "metadata": {
    "collapsed": true
   },
   "outputs": [],
   "source": []
  }
 ],
 "metadata": {
  "kernelspec": {
   "display_name": "Python 2",
   "language": "python",
   "name": "python2"
  },
  "language_info": {
   "codemirror_mode": {
    "name": "ipython",
    "version": 2
   },
   "file_extension": ".py",
   "mimetype": "text/x-python",
   "name": "python",
   "nbconvert_exporter": "python",
   "pygments_lexer": "ipython2",
   "version": "2.7.6"
  }
 },
 "nbformat": 4,
 "nbformat_minor": 0
}
