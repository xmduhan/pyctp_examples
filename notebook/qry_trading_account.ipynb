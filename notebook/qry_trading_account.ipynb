{
 "cells": [
  {
   "cell_type": "code",
   "execution_count": 1,
   "metadata": {
    "collapsed": false
   },
   "outputs": [],
   "source": [
    "# 读取环境变量\n",
    "import os\n",
    "frontAddress = os.environ.get('CTP_FRONT_ADDRESS')\n",
    "mdFrontAddress = os.environ.get('CTP_MD_FRONT_ADDRESS')\n",
    "brokerID = os.environ.get('CTP_BROKER_ID')\n",
    "userID = os.environ.get('CTP_USER_ID')\n",
    "password = os.environ.get('CTP_PASSWORD')\n",
    "assert frontAddress and mdFrontAddress and brokerID and userID and password"
   ]
  },
  {
   "cell_type": "code",
   "execution_count": 3,
   "metadata": {
    "collapsed": false
   },
   "outputs": [
    {
     "name": "stdout",
     "output_type": "stream",
     "text": [
      "[{u'Data': {u'AccountID': u'60003010',\n",
      "            u'Available': 1894973.5734999997,\n",
      "            u'Balance': 1894973.5734999997,\n",
      "            u'BrokerID': u'66666',\n",
      "            u'CashIn': 0,\n",
      "            u'CloseProfit': -17100.000000000273,\n",
      "            u'Commission': 213.0765,\n",
      "            u'Credit': 0,\n",
      "            u'CurrMargin': 0,\n",
      "            u'CurrencyID': u'CNY',\n",
      "            u'DeliveryMargin': 0,\n",
      "            u'Deposit': 0,\n",
      "            u'ExchangeDeliveryMargin': 0,\n",
      "            u'ExchangeMargin': 0,\n",
      "            u'FrozenCash': 0,\n",
      "            u'FrozenCommission': 0,\n",
      "            u'FrozenMargin': 0,\n",
      "            u'FundMortgageAvailable': 0,\n",
      "            u'FundMortgageIn': 0,\n",
      "            u'FundMortgageOut': 0,\n",
      "            u'Interest': 0,\n",
      "            u'InterestBase': 0,\n",
      "            u'Mortgage': 0,\n",
      "            u'MortgageableFund': 1894963.5734999997,\n",
      "            u'PositionProfit': 0,\n",
      "            u'PreBalance': 1912286.65,\n",
      "            u'PreCredit': 0,\n",
      "            u'PreDeposit': 1912286.65,\n",
      "            u'PreFundMortgageIn': 0,\n",
      "            u'PreFundMortgageOut': 0,\n",
      "            u'PreMargin': 0,\n",
      "            u'PreMortgage': 0,\n",
      "            u'Reserve': 10,\n",
      "            u'ReserveBalance': 0,\n",
      "            u'SettlementID': 1,\n",
      "            u'SpecProductCloseProfit': 0,\n",
      "            u'SpecProductCommission': 0,\n",
      "            u'SpecProductExchangeMargin': 0,\n",
      "            u'SpecProductFrozenCommission': 0,\n",
      "            u'SpecProductFrozenMargin': 0,\n",
      "            u'SpecProductMargin': 0,\n",
      "            u'SpecProductPositionProfit': 0,\n",
      "            u'SpecProductPositionProfitByAlg': 0,\n",
      "            u'TradingDay': u'20150826',\n",
      "            u'Withdraw': 0,\n",
      "            u'WithdrawQuota': 1705476.2161499998},\n",
      "  u'IsLast': True,\n",
      "  u'RequestID': 2,\n",
      "  'ResponseMethod': 'OnRspQryTradingAccount',\n",
      "  u'RspInfo': {u'ErrorID': 0, u'ErrorMsg': u''}}]\n"
     ]
    }
   ],
   "source": [
    "from pyctp import Trader,Md,struct,callback\n",
    "from time import sleep\n",
    "from pprint import pprint\n",
    "result = []\n",
    "def OnRspQryTradingAccount(**kwargs):\n",
    "    result.append(kwargs)\n",
    "\n",
    "trader = Trader(frontAddress,brokerID,userID,password)\n",
    "trader.bind(callback.OnRspQryTradingAccount,OnRspQryTradingAccount)\n",
    "data = struct.CThostFtdcQryTradingAccountField()\n",
    "trader.ReqQryTradingAccount(data)\n",
    "while len(result) == 0:  sleep(.01)\n",
    "pprint(result)"
   ]
  },
  {
   "cell_type": "code",
   "execution_count": 3,
   "metadata": {
    "collapsed": true
   },
   "outputs": [],
   "source": [
    "from pyctp import ErrorResult"
   ]
  },
  {
   "cell_type": "code",
   "execution_count": 4,
   "metadata": {
    "collapsed": false
   },
   "outputs": [
    {
     "data": {
      "text/plain": [
       "[-2001, u'\\u8bf7\\u6c42\\u8d85\\u65f6\\u672a\\u54cd\\u5e94', None]"
      ]
     },
     "execution_count": 4,
     "metadata": {},
     "output_type": "execute_result"
    }
   ],
   "source": [
    "callback."
   ]
  }
 ],
 "metadata": {
  "kernelspec": {
   "display_name": "Python 2",
   "language": "python",
   "name": "python2"
  },
  "language_info": {
   "codemirror_mode": {
    "name": "ipython",
    "version": 2
   },
   "file_extension": ".py",
   "mimetype": "text/x-python",
   "name": "python",
   "nbconvert_exporter": "python",
   "pygments_lexer": "ipython2",
   "version": "2.7.6"
  }
 },
 "nbformat": 4,
 "nbformat_minor": 0
}
