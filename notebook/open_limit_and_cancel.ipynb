{
 "cells": [
  {
   "cell_type": "code",
   "execution_count": 1,
   "metadata": {
    "collapsed": true
   },
   "outputs": [],
   "source": [
    "# 导入相关库函数\n",
    "from pyctp import Trader,Md,struct,callback\n",
    "from time import sleep\n",
    "from datetime import datetime\n",
    "from dateutil.relativedelta import relativedelta\n",
    "from pandas import DataFrame\n",
    "from pprint import pprint\n",
    "from comhelper import frontAddress, brokerID, userID, password\n",
    "from comhelper import getInsertOrderField, getOrderRef, getDefaultInstrumentId, wait"
   ]
  },
  {
   "cell_type": "code",
   "execution_count": 2,
   "metadata": {
    "collapsed": true
   },
   "outputs": [],
   "source": [
    "# 相关回调函数的定义\n",
    "def OnRspOrderInsert(**kwargs):\n",
    "    errorId = kwargs['RspInfo']['ErrorID']\n",
    "    errorMsg = kwargs['RspInfo']['ErrorMsg']\n",
    "    print 'OnRspOrderInsert() : ErrorId=%d, ErrorMsg=%s' % (errorId,errorMsg)   \n",
    "\n",
    "def OnErrRtnOrderInsert(**kwargs):\n",
    "    errorId = kwargs['RspInfo']['ErrorID']\n",
    "    errorMsg = kwargs['RspInfo']['ErrorMsg']\n",
    "    print 'OnErrRtnOrderInsert() : ErrorId=%d, ErrorMsg=%s' % (errorId,errorMsg)   \n",
    "\n",
    "def OnRtnOrder(**kwargs):\n",
    "    orderStatus = kwargs['Data']['OrderStatus']\n",
    "    statusMsg = kwargs['Data']['StatusMsg']\n",
    "    print 'OnRtnOrder() : OrderStatus=%s, StatusMsg=%s' % (orderStatus,statusMsg)   \n",
    "    pprint(kwargs['Data'])\n",
    "\n",
    "def OnRtnTrade(**kwargs):\n",
    "    print 'OnRtnTrade() : 已调用，报单执行成功!'   \n",
    "    pprint(kwargs['Data'])"
   ]
  },
  {
   "cell_type": "code",
   "execution_count": 3,
   "metadata": {
    "collapsed": false
   },
   "outputs": [
    {
     "data": {
      "text/plain": [
       "UUID('43e5a2a4-7de4-11e5-b3c5-3c970e8f6420')"
      ]
     },
     "execution_count": 3,
     "metadata": {},
     "output_type": "execute_result"
    }
   ],
   "source": [
    "# 初始化trader接口，并绑定回调\n",
    "trader = Trader(frontAddress, brokerID, userID, password)\n",
    "trader.bind(callback.OnRspOrderInsert,OnRspOrderInsert)\n",
    "trader.bind(callback.OnErrRtnOrderInsert,OnErrRtnOrderInsert)\n",
    "trader.bind(callback.OnRtnOrder,OnRtnOrder)\n",
    "trader.bind(callback.OnRtnTrade,OnRtnTrade)\n"
   ]
  },
  {
   "cell_type": "code",
   "execution_count": 4,
   "metadata": {
    "collapsed": false
   },
   "outputs": [
    {
     "name": "stdout",
     "output_type": "stream",
     "text": [
      "OnRtnOrder() : OrderStatus=a, StatusMsg=报单已提交\n",
      "{u'ActiveTime': u'',\n",
      " u'ActiveTraderID': u'',\n",
      " u'ActiveUserID': u'',\n",
      " u'BrokerID': u'66666',\n",
      " u'BrokerOrderSeq': 7588,\n",
      " u'BusinessUnit': u'205105',\n",
      " u'CancelTime': u'',\n",
      " u'ClearingPartID': u'',\n",
      " u'ClientID': u'01735367',\n",
      " u'CombHedgeFlag': u'1',\n",
      " u'CombOffsetFlag': u'0',\n",
      " u'ContingentCondition': u'1',\n",
      " u'Direction': u'0',\n",
      " u'ExchangeID': u'CFFEX',\n",
      " u'ExchangeInstID': u'IF1511',\n",
      " u'ForceCloseReason': u'0',\n",
      " u'FrontID': 1,\n",
      " u'GTDDate': u'',\n",
      " u'InsertDate': u'20151029',\n",
      " u'InsertTime': u'10:24:43',\n",
      " u'InstallID': 1,\n",
      " u'InstrumentID': u'IF1511',\n",
      " u'InvestorID': u'60003010',\n",
      " u'IsAutoSuspend': 0,\n",
      " u'IsSwapOrder': 0,\n",
      " u'LimitPrice': 3075.6,\n",
      " u'MinVolume': 1,\n",
      " u'NotifySequence': 0,\n",
      " u'OrderLocalID': u'        5869',\n",
      " u'OrderPriceType': u'2',\n",
      " u'OrderRef': u'000000000001',\n",
      " u'OrderSource': u'0',\n",
      " u'OrderStatus': u'a',\n",
      " u'OrderSubmitStatus': u'0',\n",
      " u'OrderSysID': u'',\n",
      " u'OrderType': u'0',\n",
      " u'ParticipantID': u'2051',\n",
      " u'RelativeOrderSysID': u'',\n",
      " u'RequestID': 2,\n",
      " u'SequenceNo': 0,\n",
      " u'SessionID': -2090260160,\n",
      " u'SettlementID': 1,\n",
      " u'StatusMsg': u'\\u62a5\\u5355\\u5df2\\u63d0\\u4ea4',\n",
      " u'StopPrice': 0,\n",
      " u'SuspendTime': u'',\n",
      " u'TimeCondition': u'3',\n",
      " u'TraderID': u'205105',\n",
      " u'TradingDay': u'20151029',\n",
      " u'UpdateTime': u'',\n",
      " u'UserForceClose': 0,\n",
      " u'UserID': u'60003010',\n",
      " u'UserProductInfo': u'\\x7f',\n",
      " u'VolumeCondition': u'1',\n",
      " u'VolumeTotal': 1,\n",
      " u'VolumeTotalOriginal': 1,\n",
      " u'VolumeTraded': 0,\n",
      " u'ZCETotalTradedVolume': 0}\n",
      "OnRtnOrder() : OrderStatus=3, StatusMsg=未成交\n",
      "{u'ActiveTime': u'',\n",
      " u'ActiveTraderID': u'205105',\n",
      " u'ActiveUserID': u'',\n",
      " u'BrokerID': u'66666',\n",
      " u'BrokerOrderSeq': 7588,\n",
      " u'BusinessUnit': u'205105',\n",
      " u'CancelTime': u'',\n",
      " u'ClearingPartID': u'2051',\n",
      " u'ClientID': u'01735367',\n",
      " u'CombHedgeFlag': u'1',\n",
      " u'CombOffsetFlag': u'0',\n",
      " u'ContingentCondition': u'1',\n",
      " u'Direction': u'0',\n",
      " u'ExchangeID': u'CFFEX',\n",
      " u'ExchangeInstID': u'IF1511',\n",
      " u'ForceCloseReason': u'0',\n",
      " u'FrontID': 1,\n",
      " u'GTDDate': u'',\n",
      " u'InsertDate': u'20151029',\n",
      " u'InsertTime': u'10:25:04',\n",
      " u'InstallID': 1,\n",
      " u'InstrumentID': u'IF1511',\n",
      " u'InvestorID': u'60003010',\n",
      " u'IsAutoSuspend': 0,\n",
      " u'IsSwapOrder': 0,\n",
      " u'LimitPrice': 3075.6,\n",
      " u'MinVolume': 1,\n",
      " u'NotifySequence': 1,\n",
      " u'OrderLocalID': u'        5869',\n",
      " u'OrderPriceType': u'2',\n",
      " u'OrderRef': u'000000000001',\n",
      " u'OrderSource': u'0',\n",
      " u'OrderStatus': u'3',\n",
      " u'OrderSubmitStatus': u'3',\n",
      " u'OrderSysID': u'      205426',\n",
      " u'OrderType': u'0',\n",
      " u'ParticipantID': u'2051',\n",
      " u'RelativeOrderSysID': u'',\n",
      " u'RequestID': 2,\n",
      " u'SequenceNo': 9237,\n",
      " u'SessionID': -2090260160,\n",
      " u'SettlementID': 1,\n",
      " u'StatusMsg': u'\\u672a\\u6210\\u4ea4',\n",
      " u'StopPrice': 0,\n",
      " u'SuspendTime': u'',\n",
      " u'TimeCondition': u'3',\n",
      " u'TraderID': u'205105',\n",
      " u'TradingDay': u'20151029',\n",
      " u'UpdateTime': u'',\n",
      " u'UserForceClose': 0,\n",
      " u'UserID': u'60003010',\n",
      " u'UserProductInfo': u'\\x7f',\n",
      " u'VolumeCondition': u'1',\n",
      " u'VolumeTotal': 1,\n",
      " u'VolumeTotalOriginal': 1,\n",
      " u'VolumeTraded': 0,\n",
      " u'ZCETotalTradedVolume': 0}\n",
      "\n"
     ]
    }
   ],
   "source": [
    "#  挂限价单\n",
    "data = getInsertOrderField(getDefaultInstrumentId(), 'buy', 'open',  limitPrice=3075.6)\n",
    "trader.ReqOrderInsert(data)\n",
    "sleep(2)\n",
    "print "
   ]
  },
  {
   "cell_type": "code",
   "execution_count": 5,
   "metadata": {
    "collapsed": false
   },
   "outputs": [
    {
     "data": {
      "text/plain": [
       "UUID('4e4c7f7e-7de4-11e5-b3c5-3c970e8f6420')"
      ]
     },
     "execution_count": 5,
     "metadata": {},
     "output_type": "execute_result"
    }
   ],
   "source": [
    "def OnRspOrderAction(**kwargs):\n",
    "    errorId = kwargs['RspInfo']['ErrorID']\n",
    "    errorMsg = kwargs['RspInfo']['ErrorMsg']\n",
    "    print 'OnErrRtnOrderInsert() : ErrorId=%d, ErrorMsg=%s' % (errorId,errorMsg)   \n",
    "    \n",
    "trader.bind(callback.OnRspOrderAction, OnRspOrderAction)"
   ]
  },
  {
   "cell_type": "code",
   "execution_count": 6,
   "metadata": {
    "collapsed": true
   },
   "outputs": [],
   "source": [
    "data = struct.CThostFtdcInputOrderActionField()\n",
    "data.BrokerID =  brokerID\n",
    "data.InvestorID = userID\n",
    "data.OrderActionRef = 0\n",
    "data.OrderRef = '000000000001'  # 需要修改\n",
    "#data.RequestID = requestID++\n",
    "data.FrontID = 1\n",
    "data.SessionID = -2090260160  # 需要修改\n",
    "data.ExchangeID = 'CFFEX'   # 需要修改\n",
    "data.OrderSysID = \"      205426\"  #  需要修改\n",
    "data.ActionFlag = '0'\n",
    "data.LimitPrice = 0\n",
    "data.VolumeChange = 0\n",
    "data.UserID = userID                                                                                             \n",
    "data.InstrumentID = getDefaultInstrumentId()"
   ]
  },
  {
   "cell_type": "code",
   "execution_count": 7,
   "metadata": {
    "collapsed": false
   },
   "outputs": [
    {
     "name": "stdout",
     "output_type": "stream",
     "text": [
      "\n"
     ]
    }
   ],
   "source": [
    "trader.ReqOrderAction(data)\n",
    "sleep(2)\n",
    "print"
   ]
  },
  {
   "cell_type": "code",
   "execution_count": 8,
   "metadata": {
    "collapsed": false
   },
   "outputs": [
    {
     "name": "stdout",
     "output_type": "stream",
     "text": [
      "\n"
     ]
    }
   ],
   "source": [
    "callback."
   ]
  }
 ],
 "metadata": {
  "kernelspec": {
   "display_name": "Python 2",
   "language": "python",
   "name": "python2"
  },
  "language_info": {
   "codemirror_mode": {
    "name": "ipython",
    "version": 2
   },
   "file_extension": ".py",
   "mimetype": "text/x-python",
   "name": "python",
   "nbconvert_exporter": "python",
   "pygments_lexer": "ipython2",
   "version": "2.7.6"
  }
 },
 "nbformat": 4,
 "nbformat_minor": 0
}
