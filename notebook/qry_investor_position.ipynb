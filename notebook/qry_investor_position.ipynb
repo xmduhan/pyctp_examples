{
 "cells": [
  {
   "cell_type": "code",
   "execution_count": 2,
   "metadata": {
    "collapsed": false
   },
   "outputs": [
    {
     "data": {
      "text/html": [
       "<div>\n",
       "<table border=\"1\" class=\"dataframe\">\n",
       "  <thead>\n",
       "    <tr style=\"text-align: right;\">\n",
       "      <th></th>\n",
       "      <th>InstrumentID</th>\n",
       "      <th>CloseVolume</th>\n",
       "      <th>OpenVolume</th>\n",
       "      <th>Position</th>\n",
       "      <th>CloseProfit</th>\n",
       "      <th>PositionProfit</th>\n",
       "      <th>Commission</th>\n",
       "    </tr>\n",
       "  </thead>\n",
       "  <tbody>\n",
       "    <tr>\n",
       "      <th>0</th>\n",
       "      <td>IF1511</td>\n",
       "      <td>1</td>\n",
       "      <td>1</td>\n",
       "      <td>0</td>\n",
       "      <td>60</td>\n",
       "      <td>0</td>\n",
       "      <td>2389.66872</td>\n",
       "    </tr>\n",
       "  </tbody>\n",
       "</table>\n",
       "</div>"
      ],
      "text/plain": [
       "  InstrumentID  CloseVolume  OpenVolume  Position  CloseProfit  \\\n",
       "0       IF1511            1           1         0           60   \n",
       "\n",
       "   PositionProfit  Commission  \n",
       "0               0  2389.66872  "
      ]
     },
     "execution_count": 2,
     "metadata": {},
     "output_type": "execute_result"
    }
   ],
   "source": [
    "from pyctp import Trader,Md,struct,callback\n",
    "from time import sleep\n",
    "from pandas import DataFrame\n",
    "from comhelper import frontAddress, brokerID, userID, password\n",
    "from comhelper import wait\n",
    "\n",
    "result = []\n",
    "flag = []\n",
    "def OnRspQryInvestorPosition(**kwargs):\n",
    "    result.append(kwargs['Data'])\n",
    "    if kwargs['IsLast'] == True:\n",
    "        flag.append(1)\n",
    "\n",
    "trader = Trader(frontAddress,brokerID,userID,password)\n",
    "trader.bind(callback.OnRspQryInvestorPosition,OnRspQryInvestorPosition)\n",
    "data = struct.CThostFtdcQryInvestorPositionField()\n",
    "trader.ReqQryInvestorPosition(data)\n",
    "wait(lambda: len(flag)>0)\n",
    "DataFrame(result)[['InstrumentID','CloseVolume','OpenVolume','Position','CloseProfit','PositionProfit','Commission']]"
   ]
  }
 ],
 "metadata": {
  "kernelspec": {
   "display_name": "Python 2",
   "language": "python",
   "name": "python2"
  },
  "language_info": {
   "codemirror_mode": {
    "name": "ipython",
    "version": 2
   },
   "file_extension": ".py",
   "mimetype": "text/x-python",
   "name": "python",
   "nbconvert_exporter": "python",
   "pygments_lexer": "ipython2",
   "version": "2.7.6"
  }
 },
 "nbformat": 4,
 "nbformat_minor": 0
}
