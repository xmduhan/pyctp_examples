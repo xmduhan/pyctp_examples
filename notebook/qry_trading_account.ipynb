{
 "cells": [
  {
   "cell_type": "code",
   "execution_count": 1,
   "metadata": {
    "collapsed": false
   },
   "outputs": [],
   "source": [
    "# 读取环境变量\n",
    "import os\n",
    "frontAddress = os.environ.get('CTP_FRONT_ADDRESS')\n",
    "mdFrontAddress = os.environ.get('CTP_MD_FRONT_ADDRESS')\n",
    "brokerID = os.environ.get('CTP_BROKER_ID')\n",
    "userID = os.environ.get('CTP_USER_ID')\n",
    "password = os.environ.get('CTP_PASSWORD')\n",
    "assert frontAddress and mdFrontAddress and brokerID and userID and password"
   ]
  },
  {
   "cell_type": "code",
   "execution_count": 2,
   "metadata": {
    "collapsed": false
   },
   "outputs": [
    {
     "name": "stdout",
     "output_type": "stream",
     "text": [
      "[{u'RspInfo': {u'ErrorMsg': u'', u'ErrorID': 0}, u'Data': {u'SpecProductFrozenCommission': 0, u'FundMortgageOut': 0, u'Mortgage': 0, u'ExchangeDeliveryMargin': 0, u'FrozenMargin': 0, u'WithdrawQuota': 1912276.65, u'PositionProfit': 0, u'Commission': 0, u'SpecProductCloseProfit': 0, u'Interest': 0, u'SpecProductCommission': 0, u'CashIn': 0, u'AccountID': u'60003010', u'Available': 1912286.65, u'FundMortgageAvailable': 0, u'InterestBase': 0, u'PreCredit': 0, u'PreMortgage': 0, u'FundMortgageIn': 0, u'Reserve': 10, u'MortgageableFund': 1912276.65, u'PreFundMortgageIn': 0, u'PreMargin': 0, u'SettlementID': 1, u'DeliveryMargin': 0, u'SpecProductFrozenMargin': 0, u'Credit': 0, u'BrokerID': u'66666', u'FrozenCash': 0, u'Withdraw': 0, u'Balance': 1912286.65, u'SpecProductMargin': 0, u'SpecProductPositionProfitByAlg': 0, u'ExchangeMargin': 0, u'PreDeposit': 1912286.65, u'TradingDay': u'20150824', u'CurrencyID': u'CNY', u'PreFundMortgageOut': 0, u'SpecProductPositionProfit': 0, u'SpecProductExchangeMargin': 0, u'PreBalance': 1912286.65, u'CurrMargin': 0, u'FrozenCommission': 0, u'CloseProfit': 0, u'ReserveBalance': 0, u'Deposit': 0}, 'ResponseMethod': 'OnRspQryTradingAccount', u'RequestID': 2, u'IsLast': True}]\n"
     ]
    }
   ],
   "source": [
    "from pyctp import Trader,Md,struct,callback\n",
    "from time import sleep\n",
    "result = []\n",
    "def OnRspQryTradingAccount(**kwargs):\n",
    "    result.append(kwargs)\n",
    "\n",
    "trader = Trader(frontAddress,brokerID,userID,password)\n",
    "trader.bind(callback.OnRspQryTradingAccount,OnRspQryTradingAccount)\n",
    "data = struct.CThostFtdcQryTradingAccountField()\n",
    "trader.ReqQryTradingAccount(data)\n",
    "while len(result) == 0:  sleep(.01)\n",
    "print result"
   ]
  },
  {
   "cell_type": "code",
   "execution_count": 3,
   "metadata": {
    "collapsed": true
   },
   "outputs": [],
   "source": [
    "from pyctp import ErrorResult"
   ]
  },
  {
   "cell_type": "code",
   "execution_count": 4,
   "metadata": {
    "collapsed": false
   },
   "outputs": [
    {
     "data": {
      "text/plain": [
       "[-2001, u'\\u8bf7\\u6c42\\u8d85\\u65f6\\u672a\\u54cd\\u5e94', None]"
      ]
     },
     "execution_count": 4,
     "metadata": {},
     "output_type": "execute_result"
    }
   ],
   "source": [
    "callback."
   ]
  }
 ],
 "metadata": {
  "kernelspec": {
   "display_name": "Python 2",
   "language": "python",
   "name": "python2"
  },
  "language_info": {
   "codemirror_mode": {
    "name": "ipython",
    "version": 2
   },
   "file_extension": ".py",
   "mimetype": "text/x-python",
   "name": "python",
   "nbconvert_exporter": "python",
   "pygments_lexer": "ipython2",
   "version": "2.7.6"
  }
 },
 "nbformat": 4,
 "nbformat_minor": 0
}
