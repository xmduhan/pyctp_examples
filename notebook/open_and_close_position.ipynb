{
 "cells": [
  {
   "cell_type": "code",
   "execution_count": null,
   "metadata": {
    "collapsed": true
   },
   "outputs": [],
   "source": [
    "# 导入相关库函数\n",
    "from pyctp import Trader,Md,struct,callback\n",
    "from time import sleep\n",
    "from datetime import datetime\n",
    "from dateutil.relativedelta import relativedelta\n",
    "from pandas import DataFrame\n",
    "from pprint import pprint\n",
    "from comhelper import frontAddress, brokerID, userID, password\n",
    "from comhelper import getInsertOrderField, getOrderRef, getDefaultInstrumentId, wait"
   ]
  },
  {
   "cell_type": "code",
   "execution_count": null,
   "metadata": {
    "code_folding": [],
    "collapsed": false
   },
   "outputs": [],
   "source": [
    "# 相关回调函数的定义\n",
    "def OnRspOrderInsert(**kwargs):\n",
    "    errorId = kwargs['RspInfo']['ErrorID']\n",
    "    errorMsg = kwargs['RspInfo']['ErrorMsg']\n",
    "    print 'OnRspOrderInsert() : ErrorId=%d, ErrorMsg=%s' % (errorId,errorMsg)   \n",
    "\n",
    "def OnErrRtnOrderInsert(**kwargs):\n",
    "    errorId = kwargs['RspInfo']['ErrorID']\n",
    "    errorMsg = kwargs['RspInfo']['ErrorMsg']\n",
    "    print 'OnErrRtnOrderInsert() : ErrorId=%d, ErrorMsg=%s' % (errorId,errorMsg)   \n",
    "\n",
    "def OnRtnOrder(**kwargs):\n",
    "    orderStatus = kwargs['Data']['OrderStatus']\n",
    "    statusMsg = kwargs['Data']['StatusMsg']\n",
    "    print 'OnRtnOrder() : OrderStatus=%s, StatusMsg=%s' % (orderStatus,statusMsg)   \n",
    "    pprint(kwargs['Data'])\n",
    "\n",
    "def OnRtnTrade(**kwargs):\n",
    "    print 'OnRtnTrade() : 已调用，报单执行成功!'   \n",
    "    pprint(kwargs['Data'])"
   ]
  },
  {
   "cell_type": "code",
   "execution_count": null,
   "metadata": {
    "collapsed": false
   },
   "outputs": [],
   "source": [
    "# 初始化trader接口，并绑定回调\n",
    "trader = Trader(frontAddress, brokerID, userID, password)\n",
    "trader.bind(callback.OnRspOrderInsert,OnRspOrderInsert)\n",
    "trader.bind(callback.OnErrRtnOrderInsert,OnErrRtnOrderInsert)\n",
    "trader.bind(callback.OnRtnOrder,OnRtnOrder)\n",
    "trader.bind(callback.OnRtnTrade,OnRtnTrade)\n"
   ]
  },
  {
   "cell_type": "code",
   "execution_count": null,
   "metadata": {
    "collapsed": false
   },
   "outputs": [],
   "source": [
    "# 开仓\n",
    "data = getInsertOrderField(getDefaultInstrumentId(), 'buy','open')\n",
    "trader.ReqOrderInsert(data)\n",
    "sleep(2)\n",
    "print "
   ]
  },
  {
   "cell_type": "code",
   "execution_count": null,
   "metadata": {
    "collapsed": false
   },
   "outputs": [],
   "source": [
    "# 平仓\n",
    "data = getInsertOrderField(getDefaultInstrumentId(), 'buy','close')\n",
    "trader.ReqOrderInsert(data)\n",
    "sleep(2)\n",
    "print "
   ]
  },
  {
   "cell_type": "code",
   "execution_count": null,
   "metadata": {
    "collapsed": true
   },
   "outputs": [],
   "source": []
  }
 ],
 "metadata": {
  "kernelspec": {
   "display_name": "Python 2",
   "language": "python",
   "name": "python2"
  },
  "language_info": {
   "codemirror_mode": {
    "name": "ipython",
    "version": 2
   },
   "file_extension": ".py",
   "mimetype": "text/x-python",
   "name": "python",
   "nbconvert_exporter": "python",
   "pygments_lexer": "ipython2",
   "version": "2.7.6"
  },
  "latex_envs": {
   "bibliofile": "biblio.bib",
   "cite_by": "apalike",
   "current_citInitial": 1,
   "eqLabelWithNumbers": false,
   "eqNumInitial": 0
  }
 },
 "nbformat": 4,
 "nbformat_minor": 0
}
