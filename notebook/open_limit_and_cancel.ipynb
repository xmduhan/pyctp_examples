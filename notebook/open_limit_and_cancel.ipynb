{
 "cells": [
  {
   "cell_type": "code",
   "execution_count": null,
   "metadata": {
    "collapsed": true
   },
   "outputs": [],
   "source": [
    "# 导入相关库函数\n",
    "from pyctp import Trader,Md,struct,callback\n",
    "from time import sleep\n",
    "from datetime import datetime\n",
    "from dateutil.relativedelta import relativedelta\n",
    "from pandas import DataFrame\n",
    "from pprint import pprint\n",
    "from comhelper import frontAddress, brokerID, userID, password\n",
    "from comhelper import getInsertOrderField, getOrderRef, getDefaultInstrumentId, wait"
   ]
  },
  {
   "cell_type": "code",
   "execution_count": null,
   "metadata": {
    "collapsed": true
   },
   "outputs": [],
   "source": [
    "# 相关回调函数的定义\n",
    "result = []\n",
    "\n",
    "def OnRspOrderInsert(**kwargs):\n",
    "    #errorId = kwargs['RspInfo']['ErrorID']\n",
    "    #errorMsg = kwargs['RspInfo']['ErrorMsg']\n",
    "    #print 'OnRspOrderInsert() : ErrorId=%d, ErrorMsg=%s' % (errorId,errorMsg)  \n",
    "    print u'OnRspOrderInsert():已调用'\n",
    "    print(kwargs)\n",
    "\n",
    "def OnErrRtnOrderInsert(**kwargs):\n",
    "    #errorId = kwargs['RspInfo']['ErrorID']\n",
    "    #errorMsg = kwargs['RspInfo']['ErrorMsg']\n",
    "    #print 'OnErrRtnOrderInsert() : ErrorId=%d, ErrorMsg=%s' % (errorId,errorMsg)  \n",
    "    print u'OnErrRtnOrderInsert():已调用'\n",
    "    print(kwargs)\n",
    "\n",
    "def OnRtnOrder(**kwargs):\n",
    "    #orderStatus = kwargs['Data']['OrderStatus']\n",
    "    #statusMsg = kwargs['Data']['StatusMsg']\n",
    "    #print 'OnRtnOrder() : OrderStatus=%s, StatusMsg=%s' % (orderStatus,statusMsg)   \n",
    "    #pprint(kwargs['Data'])\n",
    "    print u'OnRtnOrder():已调用'\n",
    "    print(kwargs)\n",
    "    result.append(kwargs)\n",
    "\n",
    "def OnRtnTrade(**kwargs):\n",
    "    #print 'OnRtnTrade() : 已调用，报单执行成功!'   \n",
    "    #pprint(kwargs['Data'])\n",
    "    print u'OnRtnTrade():已调用'\n",
    "    print(kwargs)"
   ]
  },
  {
   "cell_type": "code",
   "execution_count": null,
   "metadata": {
    "collapsed": false
   },
   "outputs": [],
   "source": [
    "# 初始化trader接口，并绑定回调\n",
    "trader = Trader(frontAddress, brokerID, userID, password)\n",
    "trader.bind(callback.OnRspOrderInsert,OnRspOrderInsert)\n",
    "trader.bind(callback.OnErrRtnOrderInsert,OnErrRtnOrderInsert)\n",
    "trader.bind(callback.OnRtnOrder,OnRtnOrder)\n",
    "trader.bind(callback.OnRtnTrade,OnRtnTrade)\n"
   ]
  },
  {
   "cell_type": "code",
   "execution_count": null,
   "metadata": {
    "collapsed": false
   },
   "outputs": [],
   "source": [
    "#  挂限价单\n",
    "result = []\n",
    "data = getInsertOrderField(getDefaultInstrumentId(), 'buy', 'open',  limitPrice=3092.8)\n",
    "trader.ReqOrderInsert(data)\n",
    "wait(lambda : len(result) >= 2)\n",
    "OrderRef = result[1]['Data'] ['OrderRef']\n",
    "SessionID = result[1]['Data'] ['SessionID']\n",
    "OrderSysID = result[1]['Data'] ['OrderSysID']"
   ]
  },
  {
   "cell_type": "code",
   "execution_count": null,
   "metadata": {
    "collapsed": false
   },
   "outputs": [],
   "source": [
    "print 'OrderRef=%s' % OrderRef\n",
    "print 'SessionID=%s' % SessionID\n",
    "print 'OrderSysId=%s' % OrderSysID"
   ]
  },
  {
   "cell_type": "code",
   "execution_count": null,
   "metadata": {
    "collapsed": false
   },
   "outputs": [],
   "source": [
    "def OnRspOrderAction(**kwargs):\n",
    "    #errorId = kwargs['RspInfo']['ErrorID']\n",
    "    #errorMsg = kwargs['RspInfo']['ErrorMsg']\n",
    "    #print 'OnErrRtnOrderInsert() : ErrorId=%d, ErrorMsg=%s' % (errorId,errorMsg)   \n",
    "    print 'OnRspOrderAction():已调用'\n",
    "    print(kwargs)\n",
    "    \n",
    "trader.bind(callback.OnRspOrderAction, OnRspOrderAction)"
   ]
  },
  {
   "cell_type": "code",
   "execution_count": null,
   "metadata": {
    "collapsed": true
   },
   "outputs": [],
   "source": [
    "data = struct.CThostFtdcInputOrderActionField()\n",
    "data.BrokerID =  brokerID\n",
    "data.InvestorID = userID\n",
    "data.OrderActionRef = 0\n",
    "data.OrderRef = u'000000000002'  # 需要修改\n",
    "#data.OrderRef = OrderRef\n",
    "#data.RequestID = requestID++\n",
    "data.FrontID = 1\n",
    "#data.SessionID = -891152269  # 需要修改\n",
    "data.ExchangeID = 'CFFEX'   # 需要修改\n",
    "data.OrderSysID = u'     1055690' #  需要修改\n",
    "data.ActionFlag = '0'\n",
    "data.LimitPrice = 0\n",
    "data.VolumeChange = 0\n",
    "data.UserID = userID                                                                                             \n",
    "data.InstrumentID = getDefaultInstrumentId()"
   ]
  },
  {
   "cell_type": "code",
   "execution_count": null,
   "metadata": {
    "collapsed": false
   },
   "outputs": [],
   "source": [
    "data = struct.CThostFtdcInputOrderActionField()\n",
    "data.BrokerID =  brokerID\n",
    "data.InvestorID = userID\n",
    "data.OrderActionRef = 0\n",
    "data.OrderRef = OrderRef  # 需要修改\n",
    "#data.RequestID = requestID++\n",
    "data.FrontID = 1\n",
    "#data.SessionID = SessionID  # 需要修改\n",
    "data.ExchangeID = 'CFFEX'   # 需要修改\n",
    "data.OrderSysID = OrderSysID #  需要修改\n",
    "data.ActionFlag = '0'\n",
    "data.LimitPrice = 0\n",
    "data.VolumeChange = 0\n",
    "data.UserID = userID                                                                                             \n",
    "data.InstrumentID = getDefaultInstrumentId()"
   ]
  },
  {
   "cell_type": "code",
   "execution_count": null,
   "metadata": {
    "collapsed": false
   },
   "outputs": [],
   "source": [
    "trader.ReqOrderAction(data)\n",
    "sleep(2)\n",
    "print"
   ]
  },
  {
   "cell_type": "code",
   "execution_count": null,
   "metadata": {
    "collapsed": false
   },
   "outputs": [],
   "source": [
    "data.OrderSysID == OrderSysID"
   ]
  },
  {
   "cell_type": "code",
   "execution_count": null,
   "metadata": {
    "collapsed": false
   },
   "outputs": [],
   "source": [
    "data.OrderRef  == OrderRef"
   ]
  },
  {
   "cell_type": "code",
   "execution_count": null,
   "metadata": {
    "collapsed": false
   },
   "outputs": [],
   "source": [
    "type(data.OrderSysID )"
   ]
  },
  {
   "cell_type": "code",
   "execution_count": null,
   "metadata": {
    "collapsed": false
   },
   "outputs": [],
   "source": [
    "type(OrderSysID)"
   ]
  },
  {
   "cell_type": "code",
   "execution_count": null,
   "metadata": {
    "collapsed": false
   },
   "outputs": [],
   "source": [
    "len(data.OrderSysID)"
   ]
  },
  {
   "cell_type": "code",
   "execution_count": null,
   "metadata": {
    "collapsed": false
   },
   "outputs": [],
   "source": [
    "trader.getConverterWorkdir()"
   ]
  },
  {
   "cell_type": "code",
   "execution_count": null,
   "metadata": {
    "collapsed": false
   },
   "outputs": [],
   "source": [
    "len(u'000000000010' )"
   ]
  },
  {
   "cell_type": "code",
   "execution_count": null,
   "metadata": {
    "collapsed": false
   },
   "outputs": [],
   "source": [
    "len(OrderRef)"
   ]
  },
  {
   "cell_type": "code",
   "execution_count": null,
   "metadata": {
    "collapsed": false
   },
   "outputs": [],
   "source": [
    "data.OrderRef = u'000000000010'  # 需要修改\n",
    "len(data.OrderRef)"
   ]
  },
  {
   "cell_type": "code",
   "execution_count": null,
   "metadata": {
    "collapsed": false
   },
   "outputs": [],
   "source": [
    "for i in data.OrderSysID:\n",
    "    print ord(i)"
   ]
  },
  {
   "cell_type": "code",
   "execution_count": null,
   "metadata": {
    "collapsed": false
   },
   "outputs": [],
   "source": [
    "for i in OrderSysID:\n",
    "    print ord(i)"
   ]
  }
 ],
 "metadata": {
  "kernelspec": {
   "display_name": "Python 2",
   "language": "python",
   "name": "python2"
  },
  "language_info": {
   "codemirror_mode": {
    "name": "ipython",
    "version": 2
   },
   "file_extension": ".py",
   "mimetype": "text/x-python",
   "name": "python",
   "nbconvert_exporter": "python",
   "pygments_lexer": "ipython2",
   "version": "2.7.6"
  }
 },
 "nbformat": 4,
 "nbformat_minor": 0
}
