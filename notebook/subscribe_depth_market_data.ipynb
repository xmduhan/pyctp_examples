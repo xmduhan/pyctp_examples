{
 "cells": [
  {
   "cell_type": "code",
   "execution_count": 1,
   "metadata": {
    "collapsed": true
   },
   "outputs": [],
   "source": [
    "# 读取环境变量\n",
    "import os\n",
    "frontAddress = os.environ.get('CTP_FRONT_ADDRESS')\n",
    "mdFrontAddress = os.environ.get('CTP_MD_FRONT_ADDRESS')\n",
    "brokerID = os.environ.get('CTP_BROKER_ID')\n",
    "userID = os.environ.get('CTP_USER_ID')\n",
    "password = os.environ.get('CTP_PASSWORD')\n",
    "assert frontAddress and mdFrontAddress and brokerID and userID and password"
   ]
  },
  {
   "cell_type": "code",
   "execution_count": 2,
   "metadata": {
    "collapsed": false
   },
   "outputs": [
    {
     "name": "stdout",
     "output_type": "stream",
     "text": [
      "[{u'RspInfo': {u'ErrorMsg': u'CTP:No Error', u'ErrorID': 0}, u'Data': {u'InstrumentID': u'IF1509'}, 'ResponseMethod': 'OnRspSubMarketData', u'RequestID': 0, u'IsLast': True}]\n"
     ]
    }
   ],
   "source": [
    "from pyctp import Trader,Md,struct,callback\n",
    "from datetime import datetime\n",
    "from dateutil.relativedelta import relativedelta\n",
    "from time import sleep\n",
    "\n",
    "def getDefaultInstrumentID(months=1):                                                  \n",
    "          return datetime.strftime(datetime.now() + relativedelta(months=months),\"IF%y%m\")   \n",
    "                                                                                             \n",
    "result = []                           \n",
    "def OnRspSubMarketData(**kwargs):                                                      \n",
    "    result.append(kwargs)\n",
    "\n",
    "data = []                                                                                \n",
    "def OnRtnDepthMarketData(**kwargs):                                                    \n",
    "    data.append(kwargs)    \n",
    "\n",
    "md = Md(mdFrontAddress,brokerID,userID,password)\n",
    "md.bind(callback.OnRspSubMarketData, OnRspSubMarketData)\n",
    "md.bind(callback.OnRtnDepthMarketData, OnRtnDepthMarketData)\n",
    "md.SubscribeMarketData([getDefaultInstrumentID()])\n",
    "while len(result) == 0:  sleep(.01)\n",
    "print result"
   ]
  },
  {
   "cell_type": "code",
   "execution_count": 15,
   "metadata": {
    "collapsed": false
   },
   "outputs": [
    {
     "name": "stdout",
     "output_type": "stream",
     "text": [
      "1\n"
     ]
    }
   ],
   "source": [
    "print len(data)"
   ]
  },
  {
   "cell_type": "code",
   "execution_count": 17,
   "metadata": {
    "collapsed": true
   },
   "outputs": [],
   "source": [
    "md = None"
   ]
  }
 ],
 "metadata": {
  "kernelspec": {
   "display_name": "Python 2",
   "language": "python",
   "name": "python2"
  },
  "language_info": {
   "codemirror_mode": {
    "name": "ipython",
    "version": 2
   },
   "file_extension": ".py",
   "mimetype": "text/x-python",
   "name": "python",
   "nbconvert_exporter": "python",
   "pygments_lexer": "ipython2",
   "version": "2.7.6"
  }
 },
 "nbformat": 4,
 "nbformat_minor": 0
}
