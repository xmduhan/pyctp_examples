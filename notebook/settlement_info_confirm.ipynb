{
 "cells": [
  {
   "cell_type": "code",
   "execution_count": 1,
   "metadata": {
    "collapsed": true
   },
   "outputs": [],
   "source": [
    "# 读取环境变量\n",
    "import os\n",
    "frontAddress = os.environ.get('CTP_FRONT_ADDRESS')\n",
    "mdFrontAddress = os.environ.get('CTP_MD_FRONT_ADDRESS')\n",
    "brokerID = os.environ.get('CTP_BROKER_ID')\n",
    "userID = os.environ.get('CTP_USER_ID')\n",
    "password = os.environ.get('CTP_PASSWORD')\n",
    "assert frontAddress and mdFrontAddress and brokerID and userID and password"
   ]
  },
  {
   "cell_type": "code",
   "execution_count": 2,
   "metadata": {
    "collapsed": false
   },
   "outputs": [
    {
     "name": "stdout",
     "output_type": "stream",
     "text": [
      "[{u'RspInfo': {u'ErrorMsg': u'\\u6b63\\u786e', u'ErrorID': 0}, u'Data': {u'ConfirmTime': u'09:48:36', u'InvestorID': u'60003010', u'BrokerID': u'66666', u'ConfirmDate': u'20150826'}, 'ResponseMethod': 'OnRspSettlementInfoConfirm', u'RequestID': 3, u'IsLast': True}]\n"
     ]
    }
   ],
   "source": [
    "from pyctp import Trader,Md,struct,callback\n",
    "from time import sleep\n",
    "\n",
    "result = []\n",
    "def OnRspSettlementInfoConfirm(**kwargs):\n",
    "    result.append(kwargs)\n",
    "\n",
    "trader = Trader(frontAddress,brokerID,userID,password)\n",
    "trader.bind(callback.OnRspSettlementInfoConfirm,OnRspSettlementInfoConfirm)\n",
    "data = struct.CThostFtdcSettlementInfoConfirmField()\n",
    "data.BrokerID = brokerID\n",
    "data.InvestorID = userID\n",
    "data.ConfirmDate = ''\n",
    "data.ConfirmTime = ''\n",
    "trader.ReqSettlementInfoConfirm(data)\n",
    "while len(result) == 0:  sleep(.01)\n",
    "print result"
   ]
  },
  {
   "cell_type": "code",
   "execution_count": null,
   "metadata": {
    "collapsed": true
   },
   "outputs": [],
   "source": []
  }
 ],
 "metadata": {
  "kernelspec": {
   "display_name": "Python 2",
   "language": "python",
   "name": "python2"
  },
  "language_info": {
   "codemirror_mode": {
    "name": "ipython",
    "version": 2
   },
   "file_extension": ".py",
   "mimetype": "text/x-python",
   "name": "python",
   "nbconvert_exporter": "python",
   "pygments_lexer": "ipython2",
   "version": "2.7.6"
  }
 },
 "nbformat": 4,
 "nbformat_minor": 0
}
