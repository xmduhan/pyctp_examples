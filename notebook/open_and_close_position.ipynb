{
 "cells": [
  {
   "cell_type": "code",
   "execution_count": 1,
   "metadata": {
    "collapsed": true
   },
   "outputs": [],
   "source": [
    "# 读取环境变量\n",
    "import os\n",
    "frontAddress = os.environ.get('CTP_FRONT_ADDRESS')\n",
    "mdFrontAddress = os.environ.get('CTP_MD_FRONT_ADDRESS')\n",
    "brokerID = os.environ.get('CTP_BROKER_ID')\n",
    "userID = os.environ.get('CTP_USER_ID')\n",
    "password = os.environ.get('CTP_PASSWORD')\n",
    "assert frontAddress and mdFrontAddress and brokerID and userID and password"
   ]
  },
  {
   "cell_type": "code",
   "execution_count": 2,
   "metadata": {
    "collapsed": true
   },
   "outputs": [],
   "source": [
    "# 导入相关库函数\n",
    "from pyctp import Trader,Md,struct,callback\n",
    "from time import sleep\n",
    "from datetime import datetime\n",
    "from dateutil.relativedelta import relativedelta\n",
    "from pandas import DataFrame\n",
    "from pprint import pprint"
   ]
  },
  {
   "cell_type": "code",
   "execution_count": 3,
   "metadata": {
    "collapsed": false
   },
   "outputs": [],
   "source": [
    "# 相关方法定义\n",
    "\n",
    "def getDefaultInstrumentID(months=1):\n",
    "    \"\"\"\n",
    "    获取一个可用的交易品种ID\n",
    "    \"\"\"\n",
    "    return datetime.strftime(datetime.now() + relativedelta(months=months),\"IF%y%m\")\n",
    "\n",
    "orderRefSeq = 0\n",
    "def getOrderRef():\n",
    "    '''\n",
    "    获取OrderRef序列值\n",
    "    '''\n",
    "    global orderRefSeq\n",
    "    orderRefSeq += 1\n",
    "    return ('%12d' % orderRefSeq).replace(' ','0') # '000000000001'\n",
    "\n",
    "def getInsertOrderField(direction,action,volume=1):\n",
    "    \"\"\"\n",
    "    获取一个有效的建单数据格式\n",
    "    \"\"\"\n",
    "    inputOrderField = struct.CThostFtdcInputOrderField()\n",
    "    inputOrderField.BrokerID = brokerID\n",
    "    inputOrderField.InvestorID = userID\n",
    "    inputOrderField.InstrumentID = getDefaultInstrumentID()\n",
    "    inputOrderField.OrderRef =  getOrderRef() #\n",
    "    inputOrderField.UserID = userID\n",
    "    inputOrderField.OrderPriceType = '1'     # 任意价\n",
    "\n",
    "    # inputOrderField.Direction = '0'          # 买\n",
    "    # inputOrderField.CombOffsetFlag = '0'     # 开仓\n",
    "    if action == 'open':\n",
    "        inputOrderField.CombOffsetFlag = '0'\n",
    "        inputOrderField.Direction = {'buy': '0', 'sell': '1'}[direction]\n",
    "    elif action == 'close':\n",
    "        inputOrderField.CombOffsetFlag = '1'\n",
    "        inputOrderField.Direction = {'buy': '1', 'sell': '0'}[direction]\n",
    "    else:\n",
    "        raise Exception(u'未知的操作方向')\n",
    "\n",
    "    inputOrderField.CombHedgeFlag = '1'      # 投机\n",
    "    inputOrderField.LimitPrice = 0           # 限价 0表不限制\n",
    "    inputOrderField.VolumeTotalOriginal = volume  # 手数\n",
    "    inputOrderField.TimeCondition = '1'      # 立即完成否则撤消\n",
    "    inputOrderField.GTDDate = ''\n",
    "    inputOrderField.VolumeCondition = '1'    # 成交类型  '1' 任何数量  '2' 最小数量 '3'全部数量\n",
    "    inputOrderField.MinVolume = volume       # 最小数量\n",
    "    inputOrderField.ContingentCondition = '1' # 触发类型 '1' 立即否则撤消\n",
    "    inputOrderField.StopPrice = 0             # 止损价\n",
    "    inputOrderField.ForceCloseReason = '0'    # 强平标识 '0'非强平\n",
    "    inputOrderField.IsAutoSuspend = 0         # 自动挂起标识\n",
    "    inputOrderField.BusinessUnit = ''         # 业务单元\n",
    "    inputOrderField.RequestID = 1\n",
    "    inputOrderField.UserForceClose = 0        # 用户强平标识\n",
    "    inputOrderField.IsSwapOrder = 0           # 互换单标识\n",
    "    return inputOrderField\n",
    "\n",
    "\n",
    "# 相关回调函数的定义\n",
    "def OnRspOrderInsert(**kwargs):\n",
    "    errorId = kwargs['RspInfo']['ErrorID']\n",
    "    errorMsg = kwargs['RspInfo']['ErrorMsg']\n",
    "    print 'OnRspOrderInsert() : ErrorId=%d, ErrorMsg=%s' % (errorId,errorMsg)   \n",
    "\n",
    "def OnErrRtnOrderInsert(**kwargs):\n",
    "    errorId = kwargs['RspInfo']['ErrorID']\n",
    "    errorMsg = kwargs['RspInfo']['ErrorMsg']\n",
    "    print 'OnErrRtnOrderInsert() : ErrorId=%d, ErrorMsg=%s' % (errorId,errorMsg)   \n",
    "\n",
    "\n",
    "def OnRtnOrder(**kwargs):\n",
    "    orderStatus = kwargs['Data']['OrderStatus']\n",
    "    statusMsg = kwargs['Data']['StatusMsg']\n",
    "    print 'OnRtnOrder() : OrderStatus=%s, StatusMsg=%s' % (orderStatus,statusMsg)   \n",
    "\n",
    "\n",
    "def OnRtnTrade(**kwargs):\n",
    "    print 'OnRtnTrade() : 已调用，报单执行成功!'   \n",
    "    pprint(kwargs['Data'])\n",
    "\n"
   ]
  },
  {
   "cell_type": "code",
   "execution_count": 4,
   "metadata": {
    "collapsed": false
   },
   "outputs": [
    {
     "data": {
      "text/plain": [
       "UUID('8dbdc9e2-4b99-11e5-a2b8-00163e0006ed')"
      ]
     },
     "execution_count": 4,
     "metadata": {},
     "output_type": "execute_result"
    }
   ],
   "source": [
    "# 初始化trader接口，并绑定回调\n",
    "trader = Trader(frontAddress, brokerID, userID, password)\n",
    "trader.bind(callback.OnRspOrderInsert,OnRspOrderInsert)\n",
    "trader.bind(callback.OnErrRtnOrderInsert,OnErrRtnOrderInsert)\n",
    "trader.bind(callback.OnRtnOrder,OnRtnOrder)\n",
    "trader.bind(callback.OnRtnTrade,OnRtnTrade)\n"
   ]
  },
  {
   "cell_type": "code",
   "execution_count": 8,
   "metadata": {
    "collapsed": false
   },
   "outputs": [
    {
     "name": "stdout",
     "output_type": "stream",
     "text": [
      "OnRtnOrder() : OrderStatus=a, StatusMsg=报单已提交\n",
      "OnRtnOrder() : OrderStatus=a, StatusMsg=报单已提交\n",
      "OnRtnOrder() : OrderStatus=0, StatusMsg=全部成交报单已提交\n",
      "OnRtnTrade() : 已调用，报单执行成功!\n",
      "{u'BrokerID': u'66666',\n",
      " u'BrokerOrderSeq': 57089,\n",
      " u'BusinessUnit': u'205103',\n",
      " u'ClearingPartID': u'2051',\n",
      " u'ClientID': u'01735367',\n",
      " u'Direction': u'0',\n",
      " u'ExchangeID': u'CFFEX',\n",
      " u'ExchangeInstID': u'IF1509',\n",
      " u'HedgeFlag': u'1',\n",
      " u'InstrumentID': u'IF1509',\n",
      " u'InvestorID': u'60003010',\n",
      " u'OffsetFlag': u'0',\n",
      " u'OrderLocalID': u'       39944',\n",
      " u'OrderRef': u'000000000004',\n",
      " u'OrderSysID': u'     1065959',\n",
      " u'ParticipantID': u'2051',\n",
      " u'Price': 2829,\n",
      " u'PriceSource': u'2',\n",
      " u'SequenceNo': 67914,\n",
      " u'SettlementID': 1,\n",
      " u'TradeDate': u'20150826',\n",
      " u'TradeID': u'      331874',\n",
      " u'TradeSource': u'0',\n",
      " u'TradeTime': u'10:33:10',\n",
      " u'TradeType': u'0',\n",
      " u'TraderID': u'205103',\n",
      " u'TradingDay': u'20150826',\n",
      " u'TradingRole': u'1',\n",
      " u'UserID': u'60003010',\n",
      " u'Volume': 1}\n",
      "\n"
     ]
    }
   ],
   "source": [
    "# 开仓\n",
    "data = getInsertOrderField('buy','open')\n",
    "trader.ReqOrderInsert(data)\n",
    "sleep(2)\n",
    "print "
   ]
  },
  {
   "cell_type": "code",
   "execution_count": 9,
   "metadata": {
    "collapsed": false
   },
   "outputs": [
    {
     "name": "stdout",
     "output_type": "stream",
     "text": [
      "OnRtnOrder() : OrderStatus=a, StatusMsg=报单已提交\n",
      "OnRtnOrder() : OrderStatus=a, StatusMsg=报单已提交\n",
      "OnRtnOrder() : OrderStatus=0, StatusMsg=全部成交报单已提交\n",
      "OnRtnTrade() : 已调用，报单执行成功!\n",
      "{u'BrokerID': u'66666',\n",
      " u'BrokerOrderSeq': 57474,\n",
      " u'BusinessUnit': u'205105',\n",
      " u'ClearingPartID': u'2051',\n",
      " u'ClientID': u'01735367',\n",
      " u'Direction': u'1',\n",
      " u'ExchangeID': u'CFFEX',\n",
      " u'ExchangeInstID': u'IF1509',\n",
      " u'HedgeFlag': u'1',\n",
      " u'InstrumentID': u'IF1509',\n",
      " u'InvestorID': u'60003010',\n",
      " u'OffsetFlag': u'1',\n",
      " u'OrderLocalID': u'       40233',\n",
      " u'OrderRef': u'000000000005',\n",
      " u'OrderSysID': u'     1072609',\n",
      " u'ParticipantID': u'2051',\n",
      " u'Price': 2826,\n",
      " u'PriceSource': u'1',\n",
      " u'SequenceNo': 68065,\n",
      " u'SettlementID': 1,\n",
      " u'TradeDate': u'20150826',\n",
      " u'TradeID': u'      333819',\n",
      " u'TradeSource': u'0',\n",
      " u'TradeTime': u'10:33:43',\n",
      " u'TradeType': u'0',\n",
      " u'TraderID': u'205105',\n",
      " u'TradingDay': u'20150826',\n",
      " u'TradingRole': u'1',\n",
      " u'UserID': u'60003010',\n",
      " u'Volume': 1}\n",
      "\n"
     ]
    }
   ],
   "source": [
    "# 平仓\n",
    "data = getInsertOrderField('buy','close')\n",
    "trader.ReqOrderInsert(data)\n",
    "sleep(2)\n",
    "print "
   ]
  },
  {
   "cell_type": "code",
   "execution_count": null,
   "metadata": {
    "collapsed": true
   },
   "outputs": [],
   "source": []
  }
 ],
 "metadata": {
  "kernelspec": {
   "display_name": "Python 2",
   "language": "python",
   "name": "python2"
  },
  "language_info": {
   "codemirror_mode": {
    "name": "ipython",
    "version": 2
   },
   "file_extension": ".py",
   "mimetype": "text/x-python",
   "name": "python",
   "nbconvert_exporter": "python",
   "pygments_lexer": "ipython2",
   "version": "2.7.6"
  }
 },
 "nbformat": 4,
 "nbformat_minor": 0
}
