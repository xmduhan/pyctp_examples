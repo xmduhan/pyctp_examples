{
 "cells": [
  {
   "cell_type": "code",
   "execution_count": 1,
   "metadata": {
    "collapsed": false
   },
   "outputs": [
    {
     "name": "stdout",
     "output_type": "stream",
     "text": [
      "[{u'Data': {u'AccountID': u'60003010',\n",
      "            u'Available': 1823398.13128,\n",
      "            u'Balance': 1823398.13128,\n",
      "            u'BrokerID': u'66666',\n",
      "            u'CashIn': 0,\n",
      "            u'CloseProfit': 59.99999999994543,\n",
      "            u'Commission': 2389.6687199999997,\n",
      "            u'Credit': 0,\n",
      "            u'CurrMargin': 0,\n",
      "            u'CurrencyID': u'CNY',\n",
      "            u'DeliveryMargin': 0,\n",
      "            u'Deposit': 0,\n",
      "            u'ExchangeDeliveryMargin': 0,\n",
      "            u'ExchangeMargin': 0,\n",
      "            u'FrozenCash': 0,\n",
      "            u'FrozenCommission': 0,\n",
      "            u'FrozenMargin': 0,\n",
      "            u'FundMortgageAvailable': 0,\n",
      "            u'FundMortgageIn': 0,\n",
      "            u'FundMortgageOut': 0,\n",
      "            u'Interest': 0,\n",
      "            u'InterestBase': 0,\n",
      "            u'Mortgage': 0,\n",
      "            u'MortgageableFund': 1823328.13128,\n",
      "            u'PositionProfit': 0,\n",
      "            u'PreBalance': 1825727.8,\n",
      "            u'PreCredit': 0,\n",
      "            u'PreDeposit': 1825727.8,\n",
      "            u'PreFundMortgageIn': 0,\n",
      "            u'PreFundMortgageOut': 0,\n",
      "            u'PreMargin': 0,\n",
      "            u'PreMortgage': 0,\n",
      "            u'Reserve': 10,\n",
      "            u'ReserveBalance': 0,\n",
      "            u'SettlementID': 1,\n",
      "            u'SpecProductCloseProfit': 0,\n",
      "            u'SpecProductCommission': 0,\n",
      "            u'SpecProductExchangeMargin': 0,\n",
      "            u'SpecProductFrozenCommission': 0,\n",
      "            u'SpecProductFrozenMargin': 0,\n",
      "            u'SpecProductMargin': 0,\n",
      "            u'SpecProductPositionProfit': 0,\n",
      "            u'SpecProductPositionProfitByAlg': 0,\n",
      "            u'TradingDay': u'20151029',\n",
      "            u'Withdraw': 0,\n",
      "            u'WithdrawQuota': 1641004.3181520002},\n",
      "  u'IsLast': True,\n",
      "  u'RequestID': 3,\n",
      "  'ResponseMethod': 'OnRspQryTradingAccount',\n",
      "  u'RspInfo': {u'ErrorID': 0, u'ErrorMsg': u''}}]\n"
     ]
    }
   ],
   "source": [
    "from pyctp import Trader,Md,struct,callback\n",
    "from time import sleep\n",
    "from pprint import pprint\n",
    "from comhelper import frontAddress, brokerID, userID, password\n",
    "from comhelper import wait\n",
    "result = []\n",
    "def OnRspQryTradingAccount(**kwargs):\n",
    "    result.append(kwargs)\n",
    "\n",
    "trader = Trader(frontAddress,brokerID,userID,password)\n",
    "trader.bind(callback.OnRspQryTradingAccount,OnRspQryTradingAccount)\n",
    "data = struct.CThostFtdcQryTradingAccountField()\n",
    "trader.ReqQryTradingAccount(data)\n",
    "wait(lambda: len(result)>0)\n",
    "pprint(result)"
   ]
  }
 ],
 "metadata": {
  "kernelspec": {
   "display_name": "Python 2",
   "language": "python",
   "name": "python2"
  },
  "language_info": {
   "codemirror_mode": {
    "name": "ipython",
    "version": 2
   },
   "file_extension": ".py",
   "mimetype": "text/x-python",
   "name": "python",
   "nbconvert_exporter": "python",
   "pygments_lexer": "ipython2",
   "version": "2.7.6"
  }
 },
 "nbformat": 4,
 "nbformat_minor": 0
}
